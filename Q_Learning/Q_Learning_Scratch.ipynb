{
 "cells": [
  {
   "cell_type": "markdown",
   "metadata": {},
   "source": [
    "## Q learning "
   ]
  },
  {
   "cell_type": "markdown",
   "metadata": {},
   "source": [
    "It is a value based Reinforcement Learning algorithm. Wait!! what is value based?<br>\n",
    "In reinforcement learning we have a state, action and reward. In simple words a state is a situation or a condition (say postition of a player in a football field), an action is the step taken (say kicking the ball in a certain direction) from the agents(the player) state and reward is the outcome of the action taken (say goal or not a goal). The goal of a reinforcement algorithm is to take the best possible action in a given state to maximize the reward. A value function is a function that returns the maximum expected future reward the agent will have from each state. In value based RL, the goal of the model is to optimize the value function. For a given state the value is the sum of rewards an agent can get in the future. With the value function the agent can choose the next step to take by looking into the state having the maximum value.\n"
   ]
  },
  {
   "cell_type": "markdown",
   "metadata": {},
   "source": [
    "### Q-table"
   ]
  },
  {
   "cell_type": "markdown",
   "metadata": {},
   "source": [
    "A Q-table('Q' for quality of the action) is a cheatsheet or you can say a reference table which can tell the best action to take from a given state. The total number of columns is equal to the number of possible actions an agent can take and the number of rows is equal to the number of all the possible states. The value of each cell in the table say q_table[i][j] is the maximum expected future reward for taking action j-th action in i-th state.<br>\n",
    "##### -----insert qtable image-----<br>\n",
    "But the question is how to make the Q-table in the first place, and how do we know it really gives right information. For this we will use the <b>Q learning algorithm</b>."
   ]
  },
  {
   "cell_type": "code",
   "execution_count": null,
   "metadata": {},
   "outputs": [],
   "source": []
  }
 ],
 "metadata": {
  "kernelspec": {
   "display_name": "Python 3",
   "language": "python",
   "name": "python3"
  },
  "language_info": {
   "codemirror_mode": {
    "name": "ipython",
    "version": 3
   },
   "file_extension": ".py",
   "mimetype": "text/x-python",
   "name": "python",
   "nbconvert_exporter": "python",
   "pygments_lexer": "ipython3",
   "version": "3.6.5"
  }
 },
 "nbformat": 4,
 "nbformat_minor": 2
}
